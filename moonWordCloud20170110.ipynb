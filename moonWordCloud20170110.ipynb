{
 "cells": [
  {
   "cell_type": "code",
   "execution_count": 87,
   "metadata": {},
   "outputs": [],
   "source": [
    "from collections import Counter\n",
    "from konlpy.tag import Twitter\n",
    "import pytagcloud\n",
    "import codecs"
   ]
  },
  {
   "cell_type": "code",
   "execution_count": 88,
   "metadata": {},
   "outputs": [],
   "source": [
    "f = codecs.open( \"moon.dat\", \"r\", \"utf-8\" )"
   ]
  },
  {
   "cell_type": "code",
   "execution_count": 89,
   "metadata": {},
   "outputs": [],
   "source": [
    "data = f.read()"
   ]
  },
  {
   "cell_type": "code",
   "execution_count": 90,
   "metadata": {},
   "outputs": [],
   "source": [
    "nlp = Twitter()\n",
    "nouns = nlp.nouns(data)"
   ]
  },
  {
   "cell_type": "code",
   "execution_count": 91,
   "metadata": {},
   "outputs": [],
   "source": [
    "count = Counter(nouns)"
   ]
  },
  {
   "cell_type": "code",
   "execution_count": 100,
   "metadata": {},
   "outputs": [],
   "source": [
    "tag = count.most_common(50)\n",
    "taglist = pytagcloud.make_tags(tag, maxsize=260)"
   ]
  },
  {
   "cell_type": "code",
   "execution_count": 102,
   "metadata": {},
   "outputs": [],
   "source": [
    "del tag[48], tag[30], tag[19], tag[8], tag[7], tag[2], tag[1]"
   ]
  },
  {
   "cell_type": "code",
   "execution_count": 103,
   "metadata": {},
   "outputs": [],
   "source": [
    "taglist = pytagcloud.make_tags(tag2, maxsize=260)"
   ]
  },
  {
   "cell_type": "code",
   "execution_count": 104,
   "metadata": {},
   "outputs": [],
   "source": [
    "pytagcloud.create_tag_image(taglist, 'wordcloud.jpg', size=(1024, 768), fontname='Korean', rectangular=False)"
   ]
  },
  {
   "cell_type": "code",
   "execution_count": 105,
   "metadata": {},
   "outputs": [],
   "source": [
    "f.close()"
   ]
  },
  {
   "cell_type": "code",
   "execution_count": 52,
   "metadata": {},
   "outputs": [],
   "source": []
  },
  {
   "cell_type": "code",
   "execution_count": 54,
   "metadata": {},
   "outputs": [],
   "source": []
  },
  {
   "cell_type": "code",
   "execution_count": 58,
   "metadata": {},
   "outputs": [],
   "source": []
  },
  {
   "cell_type": "code",
   "execution_count": 106,
   "metadata": {},
   "outputs": [
    {
     "data": {
      "text/plain": [
       "[('국민', 56),\n",
       " ('정부', 24),\n",
       " ('삶', 20),\n",
       " ('우리', 20),\n",
       " ('평화', 16),\n",
       " ('일자리', 14),\n",
       " ('사회', 11),\n",
       " ('국가', 10),\n",
       " ('다시', 10),\n",
       " ('년', 10),\n",
       " ('한반도', 10),\n",
       " ('대한민국', 9),\n",
       " ('여러분', 9),\n",
       " ('촛불', 9),\n",
       " ('혁신', 9),\n",
       " ('월', 8),\n",
       " ('위해', 8),\n",
       " ('경제', 8),\n",
       " ('목표', 7),\n",
       " ('올해', 7),\n",
       " ('나라', 7),\n",
       " ('지원', 7),\n",
       " ('일', 7),\n",
       " ('금융', 7),\n",
       " ('역사', 7),\n",
       " ('대화', 6),\n",
       " ('협력', 6),\n",
       " ('합의', 6),\n",
       " ('힘', 6),\n",
       " ('문제', 6),\n",
       " ('일상', 6),\n",
       " ('개헌', 6),\n",
       " ('문화', 5),\n",
       " ('사람', 5),\n",
       " ('대통령', 5),\n",
       " ('정규직', 5),\n",
       " ('할머니', 5),\n",
       " ('부담', 5),\n",
       " ('민주주의', 5),\n",
       " ('만원', 5),\n",
       " ('청년', 5),\n",
       " ('안전', 5),\n",
       " ('창업', 4)]"
      ]
     },
     "execution_count": 106,
     "metadata": {},
     "output_type": "execute_result"
    }
   ],
   "source": [
    "tag"
   ]
  },
  {
   "cell_type": "code",
   "execution_count": null,
   "metadata": {},
   "outputs": [],
   "source": []
  }
 ],
 "metadata": {
  "kernelspec": {
   "display_name": "Python 3",
   "language": "python",
   "name": "python3"
  },
  "language_info": {
   "codemirror_mode": {
    "name": "ipython",
    "version": 3
   },
   "file_extension": ".py",
   "mimetype": "text/x-python",
   "name": "python",
   "nbconvert_exporter": "python",
   "pygments_lexer": "ipython3",
   "version": "3.4.3"
  }
 },
 "nbformat": 4,
 "nbformat_minor": 2
}
